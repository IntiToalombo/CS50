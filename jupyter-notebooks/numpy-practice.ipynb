{
 "cells": [
  {
   "cell_type": "markdown",
   "metadata": {},
   "source": [
    "## Numpy Practice\n",
    "Optional Lab01 ML specilization week 2."
   ]
  },
  {
   "cell_type": "markdown",
   "metadata": {},
   "source": [
    "Import Numpy package"
   ]
  },
  {
   "cell_type": "code",
   "execution_count": 2,
   "metadata": {},
   "outputs": [],
   "source": [
    "import numpy as np\n",
    "import time"
   ]
  },
  {
   "cell_type": "markdown",
   "metadata": {},
   "source": [
    "### 3.3 Vector creation\n",
    "Examples of creating vectors "
   ]
  },
  {
   "cell_type": "code",
   "execution_count": 13,
   "metadata": {},
   "outputs": [
    {
     "name": "stdout",
     "output_type": "stream",
     "text": [
      "np.zeros(4): a = [0. 0. 0. 0.], a shape = (4,), a data tye = float64\n",
      "np.zeros((4,)): a = [0. 0. 0. 0.], a shape = (4,), a data tye = float64\n",
      "np.random.random_sample(4): a = [0.85427821 0.14852384 0.94928665 0.16748834], a shape = (4,), a data tye = float64\n"
     ]
    }
   ],
   "source": [
    "# Numpy routines which allocate memory adn fill arrays with value\n",
    "a = np.zeros(4)  # 1D array of 4 zeros\n",
    "print(f\"np.zeros(4): a = {a}, a shape = {a.shape}, a data tye = {a.dtype}\")\n",
    "a = np.zeros((4,)) # 1D array of 4 zeros\n",
    "print(f\"np.zeros((4,)): a = {a}, a shape = {a.shape}, a data tye = {a.dtype}\")\n",
    "a = np.random.random_sample(4) # 1D array of 4 random numbers\n",
    "print(f\"np.random.random_sample(4): a = {a}, a shape = {a.shape}, a data tye = {a.dtype}\")"
   ]
  },
  {
   "cell_type": "markdown",
   "metadata": {},
   "source": [
    "Some data creation routines do not take a shape touple:"
   ]
  },
  {
   "cell_type": "code",
   "execution_count": 14,
   "metadata": {},
   "outputs": [
    {
     "name": "stdout",
     "output_type": "stream",
     "text": [
      "np.arange(4.): a = [0. 1. 2. 3.], a shape = (4,), a data tye = float64\n",
      "np.random.rand(4): a = [0.55653067 0.28423595 0.19716717 0.69992222], a shape = (4,), a data tye = float64\n"
     ]
    }
   ],
   "source": [
    "# Numpy routines which allocate memory and fill arrays with value but do not accept shape as input argument\n",
    "a = np.arange(4.) # 1D array of 4 numbers\n",
    "print(f\"np.arange(4.): a = {a}, a shape = {a.shape}, a data tye = {a.dtype}\")\n",
    "a = np.random.rand(4) # 1D array of 4 random numbers\n",
    "print(f\"np.random.rand(4): a = {a}, a shape = {a.shape}, a data tye = {a.dtype}\")"
   ]
  },
  {
   "cell_type": "markdown",
   "metadata": {},
   "source": [
    "Numpy arrays values can be specified manually as well"
   ]
  },
  {
   "cell_type": "code",
   "execution_count": 15,
   "metadata": {},
   "outputs": [
    {
     "name": "stdout",
     "output_type": "stream",
     "text": [
      "np.array[3, 5, 6, 8]: a = [3 5 6 8], a shape = (4,), a data tye = int32\n",
      "np.array([3., 5, 6, 8]): a = [3. 5. 6. 8.], a shape = (4,), a data tye = float64\n"
     ]
    }
   ],
   "source": [
    "a = np.array([3, 5, 6, 8]) # 1D array of 4 numbers, 3 is an integer\n",
    "print(f\"np.array[3, 5, 6, 8]: a = {a}, a shape = {a.shape}, a data tye = {a.dtype}\")\n",
    "a = np.array([3., 5, 6, 8]) # 1D array of 4 numbers, 3. is a float\n",
    "print(f\"np.array([3., 5, 6, 8]): a = {a}, a shape = {a.shape}, a data tye = {a.dtype}\")"
   ]
  },
  {
   "cell_type": "markdown",
   "metadata": {},
   "source": [
    "These have created a one-dimensional vector `a` with four elements, `a.shape` returns the dimensions. Here we see a.shape = (4, ) indicating 1-D array with `4` elements.\n"
   ]
  },
  {
   "cell_type": "markdown",
   "metadata": {},
   "source": [
    "### 3.4 Operations on Vectors\n",
    "#### Indexing\n",
    "NumPy offers a very complete set of idexing and slicing capabilities.\n",
    "`Indexing` it refers to an element by its position within the array.  \n",
    "`Slicing` means getting a subset of the elements from an array based on their indices.\n",
    "**Note:** Numpy starts indexing at zero (0) so the 3rd element of a vector **a** is a[2]\n",
    "To skip to a new line in Jupyter Notebook, you can use two spaces at the end of the line or use the HTML `<br>` tag. Here is the code that would fit at the placeholder:"
   ]
  },
  {
   "cell_type": "code",
   "execution_count": 16,
   "metadata": {},
   "outputs": [
    {
     "name": "stdout",
     "output_type": "stream",
     "text": [
      "[0. 1. 2. 3. 4. 5. 6. 7. 8. 9.]\n",
      "a[2].shape: (), a[2] = 2.0, Accesing an element returns a scalar\n",
      "a[-1].shape: (), a[-1] = 9.0\n",
      "IndexError: index 10 is out of bounds for axis 0 with size 10\n"
     ]
    }
   ],
   "source": [
    "# vector indexing operations in 1D arrays\n",
    "a = np.arange(10.)\n",
    "print(a)\n",
    "# access to the 2nd element\n",
    "print(f\"a[2].shape: {a[2].shape}, a[2] = {a[2]}, Accesing an element returns a scalar\")\n",
    "\n",
    "# acces to the last element, use negative index counting from the end\n",
    "print(f\"a[-1].shape: {a[-1].shape}, a[-1] = {a[-1]}\")\n",
    "\n",
    "# indexes must me in the range of the array size, otherwise an error is raised\n",
    "try:\n",
    "    print(f\"a[10]: {a[10]}\")\n",
    "except IndexError as e:\n",
    "    print(f\"IndexError: {e}\")"
   ]
  },
  {
   "cell_type": "markdown",
   "metadata": {},
   "source": [
    "#### Slicing\n",
    "Slicing allow us to create an array of indices using three parameters (`start;stop:step`). A susbset of values is also valid."
   ]
  },
  {
   "cell_type": "code",
   "execution_count": null,
   "metadata": {},
   "outputs": [
    {
     "name": "stdout",
     "output_type": "stream",
     "text": [
      "a          =  [0. 1. 2. 3. 4. 5. 6. 7. 8. 9.]\n",
      "a[2:7:1]   =  [2. 3. 4. 5. 6.]\n",
      "a[2:7:2]   =  [2. 4. 6.]\n",
      "a[3:]      =  [3. 4. 5. 6. 7. 8. 9.]\n",
      "a[:3]      =  [0. 1. 2.]\n",
      "a[:]       =  [0. 1. 2. 3. 4. 5. 6. 7. 8. 9.]\n"
     ]
    }
   ],
   "source": [
    "# Slicing operations\n",
    "a = np.arange(10.)\n",
    "print(f\"a          = \", a)\n",
    "# access 5 consecutive elements (start:stop:step)\n",
    "c = a[2:7:1]\n",
    "print(f\"a[2:7:1]   = \", c)\n",
    "# acces 3 elements separated by 2 elements\n",
    "c = a[2:7:2]\n",
    "print(f\"a[2:7:2]   = \", c)\n",
    "# access all elements index 3 and beyond\n",
    "c = a[3:]\n",
    "print(f\"a[3:]      = \", c)\n",
    "# access all elements up to index 3\n",
    "c = a[:3]\n",
    "print(f\"a[:3]      = \", c)\n",
    "# access all elements\n",
    "c = a[:]\n",
    "print(f\"a[:]       = \", c)\n"
   ]
  },
  {
   "cell_type": "markdown",
   "metadata": {},
   "source": [
    "### Single vector operations\n",
    "There are a number of useful operations that involve operations on a single vector."
   ]
  },
  {
   "cell_type": "code",
   "execution_count": null,
   "metadata": {},
   "outputs": [
    {
     "name": "stdout",
     "output_type": "stream",
     "text": [
      "a          =  [1 2 3 4]\n",
      "-a         =  [-1 -2 -3 -4]\n",
      "np.sum(a)  =  10\n",
      "np.mean(a) =  2.5\n",
      "a**2       =  [ 1  4  9 16]\n"
     ]
    }
   ],
   "source": [
    "a = np.array([1, 2, 3, 4])\n",
    "print(f\"a          = \", a)\n",
    "\n",
    "# negate elements of a\n",
    "b = -a\n",
    "print(f\"-a         = \",b)\n",
    "\n",
    "# sum of all elements of a, returns a scalar\n",
    "b = np.sum(a)\n",
    "print(f\"np.sum(a)  = \", b)\n",
    "\n",
    "# mean of all elements of a, returns a scalar\n",
    "b = np.mean(a)\n",
    "print(f\"np.mean(a) = \",b)\n",
    "\n",
    "# square of all elements of a\n",
    "b = a**2\n",
    "print(f\"a**2       = \", b)\n"
   ]
  },
  {
   "cell_type": "markdown",
   "metadata": {},
   "source": [
    "### Vector vector element-wise operations\n",
    "\n",
    "Numpy arithmetic, logical and comparison also apply to vector as well. These  operators work on an element-by-element basis.\n",
    "\n",
    "$$ c_i = a_i + b_i $$"
   ]
  },
  {
   "cell_type": "code",
   "execution_count": null,
   "metadata": {},
   "outputs": [
    {
     "name": "stdout",
     "output_type": "stream",
     "text": [
      "Primary operators work element-wise:  [0 0 6 8]\n"
     ]
    }
   ],
   "source": [
    "a = np.array([1, 2, 3, 4])\n",
    "b = np.array([-1, -2, 3, 4])\n",
    "print(f\"Primary operators work element-wise: \", a + b)"
   ]
  },
  {
   "cell_type": "markdown",
   "metadata": {},
   "source": [
    "Noticed that to carry out this operation correctly, the vector must be of the same size."
   ]
  },
  {
   "cell_type": "code",
   "execution_count": null,
   "metadata": {},
   "outputs": [
    {
     "name": "stdout",
     "output_type": "stream",
     "text": [
      "ValueError: operands could not be broadcast together with shapes (4,) (3,) \n"
     ]
    }
   ],
   "source": [
    "# Try a mismatched operation on vectors of different sizes\n",
    "c = np.array([1, 2, 3])\n",
    "try:\n",
    "    d = a + c\n",
    "except ValueError as e:\n",
    "    print(f\"ValueError: {e}\")"
   ]
  },
  {
   "cell_type": "markdown",
   "metadata": {},
   "source": [
    "### Scalar vector operations\n",
    "\n",
    "A vector can be scaled by a scalar value(number). This scalar multiplies all the elements of the vector "
   ]
  },
  {
   "cell_type": "code",
   "execution_count": null,
   "metadata": {},
   "outputs": [
    {
     "name": "stdout",
     "output_type": "stream",
     "text": [
      "a =  [1 2 3 4]\n",
      "2*a =  [2 4 6 8]\n"
     ]
    }
   ],
   "source": [
    "a = np.array([1, 2, 3, 4])\n",
    "print(f\"a = \", a)\n",
    " # Multiply vector a by a scalar\n",
    "b = 2*a\n",
    "print(f\"2*a = \", b)\n"
   ]
  },
  {
   "cell_type": "markdown",
   "metadata": {},
   "source": [
    "### Vector Vector dot product\n",
    "\n",
    "The **dot product** operation is the mainstay of Numpy and Linear Algebra, since it is used extensively in machine Learnign(ML).\n",
    "The mathematical representation is depicted below:"
   ]
  },
  {
   "cell_type": "markdown",
   "metadata": {},
   "source": [
    "\n",
    "![vector dot mathematical representation](C1_W2_Lab04_dot_notrans.gif) \n",
    "\n",
    "The vector vector dot product multiplies in two element-wise and then sums the results. The vectors involved on the operation must have the same size. \n",
    "\n",
    "Let's code an implementation of the dot product below. Using a **for loop** let's implement a fuction which returns the dot product of two vectors. The function to return given inputs $a$ and $b$:\n",
    "$$ x = \\sum_{i=0}^{n-1} a_i b_i$$\n",
    " Assuming that $a$ and $b$ are the same shape."
   ]
  },
  {
   "cell_type": "code",
   "execution_count": 11,
   "metadata": {},
   "outputs": [],
   "source": [
    "def my_dot(a, b):\n",
    "    \"\"\"\"\n",
    "    Compute the dot product of two vectors a and b\n",
    "    Args:\n",
    "        a: 1D numpy array, input vector\n",
    "        b: 1D numpy array, input vector with same size as a\n",
    "        Returns:\n",
    "            x (scalar): dot product of a and b \n",
    "    \"\"\"\n",
    "    if a.shape !=b.shape:\n",
    "        raise ValueError(\"Input vector mus be of the same size\")\n",
    "    x = 0\n",
    "    for i in range(a.shape[0]):\n",
    "        x += a[i]*b[i]\n",
    "    return x # scalar value of the dot product"
   ]
  },
  {
   "cell_type": "markdown",
   "metadata": {},
   "source": [
    "Test 1:"
   ]
  },
  {
   "cell_type": "code",
   "execution_count": 24,
   "metadata": {},
   "outputs": [
    {
     "name": "stdout",
     "output_type": "stream",
     "text": [
      "Dot product of vector a and b:\n",
      "my_dot(a, b)= 10\n"
     ]
    }
   ],
   "source": [
    "# test 1-D dot product\n",
    "a = np.array([1, 2, 3, 4])\n",
    "b = np.array([-1,2 ,-3, 4])\n",
    "c = my_dot(a,b)\n",
    "print(f\"Dot product of vector a and b:\\nmy_dot(a, b)=\",c)"
   ]
  },
  {
   "cell_type": "markdown",
   "metadata": {},
   "source": [
    "As is expected a scalar value is returned.\n",
    "But actually is not neccesary to implement the dot product function by ourselves but we can use `np.dot` numpy operator. "
   ]
  },
  {
   "cell_type": "code",
   "execution_count": 28,
   "metadata": {},
   "outputs": [
    {
     "name": "stdout",
     "output_type": "stream",
     "text": [
      "Dot product of vector a and b:\n",
      "np.dot(a, b)= 10\n",
      "Dot product of vector b and a:\n",
      "np.dot(b, a)= 10\n"
     ]
    }
   ],
   "source": [
    "a = np.array([1, 2, 3, 4])\n",
    "b = np.array([-1,2 ,-3, 4])\n",
    "c = np.dot(a, b) # numpy dot product\n",
    "print(f\"Dot product of vector a and b:\\nnp.dot(a, b)=\",c)\n",
    "c = np.dot(b, a)\n",
    "print(f\"Dot product of vector b and a:\\nnp.dot(b, a)=\",c)\n"
   ]
  },
  {
   "cell_type": "markdown",
   "metadata": {},
   "source": [
    "The need for speed: vector vs loop\n",
    "NumPy improves speed memory efficiency."
   ]
  },
  {
   "cell_type": "code",
   "execution_count": 16,
   "metadata": {},
   "outputs": [
    {
     "name": "stdout",
     "output_type": "stream",
     "text": [
      "c = np.dot(a,b) \n",
      "c = 2501072.5817\n",
      "Vectorized version duration: 0.01 s or 9.00 ms\n",
      "c = my_dot(a,b)\n",
      "c = 2501072.5817\n",
      "Non-vectorized (Loop) version duration: 2.76 s or 2762.23 ms\n"
     ]
    }
   ],
   "source": [
    "np.random.seed(1) # seed the random number generator\n",
    "a = np.random.rand(10000000)# 1D array of 10^7 random numbers\n",
    "b = np.random.rand(10000000) # 1D array of 10^7 random numbers\n",
    "\n",
    "# Calculate the lapsed time for vectorized version\n",
    "tic = time.time() # capture the start time\n",
    "c = np.dot(a,b) # numpy dot product\n",
    "toc = time.time() # capture the end time\n",
    "print(f\"c = np.dot(a,b) \\nc = {c:.4f}\")\n",
    "print(f\"Vectorized version duration: {(toc-tic):.2f} s or {1000*(toc-tic):.2f} ms\")\n",
    "\n",
    "# Calculate the lapsed time for the non-vectorized version\n",
    "tic = time.time()\n",
    "c = my_dot(a,b)\n",
    "toc = time.time()\n",
    "print(f\"c = my_dot(a,b)\\nc = {c:.4f}\")\n",
    "print(f\"Non-vectorized (Loop) version duration: {(toc-tic):.2f} s or {1000*(toc-tic):.2f} ms\")\n",
    "\n",
    "# Delete arrays from memory\n",
    "del(a)\n",
    "del(b)\n",
    "\n",
    "\n"
   ]
  },
  {
   "cell_type": "markdown",
   "metadata": {},
   "source": [
    "So, vectorized version of dot operations takes significante less time to compute becausse NumPy uses available data parallelism in the underlying hardware.\n",
    "This is critical in Machine Learning where datasets are very large."
   ]
  },
  {
   "cell_type": "markdown",
   "metadata": {},
   "source": [
    "### Vector vector operations.\n",
    "* Commonly `X-train` with (m,n) dimension is used to store train data. Here is important to note it is a 2 dimensional array or matrix.\n",
    "* `w` will be a 1-dimensional vector of shape(n,)\n",
    "* As in earlier examples it is possible to perform operations by looping through the examples by indexing them. For example: `x[i]` returns a value of shape(n,) a 1-dimensional vector. \n",
    "* Consequently operations involving `x[i]` are often vector-vector.  "
   ]
  },
  {
   "cell_type": "code",
   "execution_count": 18,
   "metadata": {},
   "outputs": [
    {
     "name": "stdout",
     "output_type": "stream",
     "text": [
      "X[1] has shape (1,)\n",
      "w has shape (1,)\n",
      "c has shape ()\n"
     ]
    }
   ],
   "source": [
    "# Example\n",
    "X = np.array([[1], [2], [3], [4]])\n",
    "w = np.array([2])\n",
    "c = np.dot(X[1], w)\n",
    "\n",
    "print(f\"X[1] has shape {X[1].shape}\")\n",
    "print(f\"w has shape {w.shape}\")\n",
    "print(f\"c has shape {c.shape    }\")\n"
   ]
  },
  {
   "cell_type": "markdown",
   "metadata": {},
   "source": [
    "## 4. Matrices\n",
    "\n",
    "### Abstract\n",
    "Matrices represented with capitol bold leeter **X**, are 2 dimensional arrays with all of its elements of the same type. In ML `m` represents rows and `n` represents columns, then the elements of a matrix can be referenced using two-dimensional index. In math the index goes from `1` to `n`. In CS indexing will run form `0` to `n-1`.\n",
    "Check matrices representation below:\n",
    "\n",
    "Code representation\n",
    "$$\n",
    "\\mathbf{X} = \\begin{pmatrix}\n",
    "x_{0,0} & x_{0,1} & \\cdots & x_{0,n-1} \\\\\n",
    "x_{1,0} & x_{1,1} & \\cdots & x_{1,n-1} \\\\\n",
    "\\vdots & \\vdots & \\ddots & \\vdots \\\\\n",
    "x_{m-1,0} & x_{m-1,1} & \\cdots & x_{m-1,n-1} \\\\\n",
    "\\end{pmatrix}\n",
    "$$\n",
    "\n",
    "Common representation in maths.\n",
    "\n",
    "$$\n",
    "\\mathbf{X} = \\begin{pmatrix}\n",
    "x_{1,1} & x_{1,2} & \\cdots & x_{1,n} \\\\\n",
    "x_{2,1} & x_{2,2} & \\cdots & x_{2,n} \\\\\n",
    "\\vdots & \\vdots & \\ddots & \\vdots \\\\\n",
    "x_{m,1} & x_{m,2} & \\cdots & x_{m,n} \\\\\n",
    "\\end{pmatrix}\n",
    "$$"
   ]
  },
  {
   "cell_type": "markdown",
   "metadata": {},
   "source": [
    "### Numpy Arrays in ML\n",
    "In Machine Learning 2-D matrices are used to hold training data. Trainig data is `m` examples by `n` feautures creating (m,n) array. "
   ]
  },
  {
   "cell_type": "markdown",
   "metadata": {},
   "source": [
    "### Matrix Creation\n",
    "\n",
    "The same functions that created 1-D vectors will create 2-D or n-D arrays.\n",
    "Below, the shape tuple is provided to achieve a 2-D results. Notice how NumPy uses brackets to denote each dimension. Further will be noticed that NumPy prints one row per line. "
   ]
  },
  {
   "cell_type": "code",
   "execution_count": 8,
   "metadata": {},
   "outputs": [
    {
     "name": "stdout",
     "output_type": "stream",
     "text": [
      "a = [[0. 0. 0. 0. 0.]], a shape (1, 5)\n",
      "\n",
      "b = [[0. 0. 0. 0. 0.]\n",
      " [0. 0. 0. 0. 0.]], b shape = (2, 5)\n",
      "\n",
      "a = [[0.]\n",
      " [0.]], a shape = (2, 1)\n"
     ]
    }
   ],
   "source": [
    "a = np.zeros((1, 5)) # 1D array of 5 zeros\n",
    "print(f\"a = {a}, a shape {a.shape}\\n\")\n",
    "\n",
    "b = np.zeros((2,5)) # 2D array of 2 rows and 5 columns\n",
    "print(f\"b = {b}, b shape = {b.shape}\\n\")\n",
    "\n",
    "a = np.zeros((2, 1)) # 2D array of 2 rows and 1 column\n",
    "print(f\"a = {a}, a shape = {a.shape}\")\n",
    "\n"
   ]
  },
  {
   "cell_type": "markdown",
   "metadata": {},
   "source": [
    "It is also posible to specify data manually. Dimensions are specified with additional brackets matching the format in the printing above.\n",
    " "
   ]
  },
  {
   "cell_type": "code",
   "execution_count": 15,
   "metadata": {},
   "outputs": [
    {
     "name": "stdout",
     "output_type": "stream",
     "text": [
      "a = [[1]\n",
      " [3]\n",
      " [5]], a shape = (3, 1)\n",
      "a = [[1]\n",
      " [3]\n",
      " [5]], a shape = (3, 1)\n"
     ]
    }
   ],
   "source": [
    "a = np.array([[1], [3], [5]]) # 2D array of 3 rows and 1 column\n",
    "print(f\"a = {a}, a shape = {a.shape}\")\n",
    "\n",
    "a = np.array([[1],\n",
    "              [3],\n",
    "              [5]]) # 2D array of 3 rows and 1 column\n",
    "print(f\"a = {a}, a shape = {a.shape}\")\n"
   ]
  },
  {
   "cell_type": "markdown",
   "metadata": {},
   "source": [
    "## Operations on Matrices\n",
    "\n",
    "### Indexing\n",
    "Accesing an element of a matrix can be done using the two indexes [row(m), column(n)]. Acces can return either an element or a row/column."
   ]
  },
  {
   "cell_type": "code",
   "execution_count": null,
   "metadata": {},
   "outputs": [
    {
     "name": "stdout",
     "output_type": "stream",
     "text": [
      "a.shape = (3, 2), \n",
      "a = [[0 1]\n",
      " [2 3]\n",
      " [4 5]]\n",
      "\n",
      "a[2, 0].shape: (),\n",
      "a[2, 0] = 4,\n",
      "type(a[2, 0]) = <class 'numpy.int32'> accessing an element returns an scalar\n",
      "\n",
      "a[2].shape: (2,),\n",
      "a[2] = [4 5],\n",
      "type(a[2]) = <class 'numpy.ndarray'>\n"
     ]
    }
   ],
   "source": [
    "a = np.arange(6).reshape(-1,2) # 2D array of 3 rows and 2 columns\n",
    "print(f\"a.shape = {a.shape}, \\na = {a}\")\n",
    "\n",
    "# Access an element\n",
    "print(f\"\\na[2, 0].shape: {a[2, 0].shape},\\na[2, 0] = {a[2, 0]},\\ntype(a[2, 0]) = {type(a[2, 0])} accessing an element returns an scalar\")\n",
    "\n",
    "# Access a row\n",
    "print(f\"\\na[2].shape: {a[2].shape},\\na[2] = {a[2]},\\ntype(a[2]) = {type(a[2])}\")"
   ]
  },
  {
   "cell_type": "markdown",
   "metadata": {},
   "source": [
    "**Note**: Notice that in the last example accesing a matrix by just specifying a row will retunr a 1-D vector."
   ]
  },
  {
   "cell_type": "markdown",
   "metadata": {},
   "source": [
    "### Reshape \n",
    "The previous example we used **reshape**  to shape the array. `a = np.arange(6).reshape(-1, 2)`. This line first create a 1-D vector of six elements and then it reshaped that vector into 2-D array using the reshape command. We could have been writen: `a = np.arange(6).reshape(3,2)` to arrive to the same 3 row, 2 column array. \n",
    "The `-1` argument tells the routine to compute the number of rows given the size of the array and the number of columns"
   ]
  },
  {
   "cell_type": "markdown",
   "metadata": {},
   "source": [
    "Let's break it down to a better understanding."
   ]
  },
  {
   "cell_type": "code",
   "execution_count": 56,
   "metadata": {},
   "outputs": [
    {
     "name": "stdout",
     "output_type": "stream",
     "text": [
      "a =[0 1 2 3 4 5], a shape = (6,)\n",
      "Vector a reshaped\n",
      "a = [[0 1]\n",
      " [2 3]\n",
      " [4 5]], a shape = (3, 2)\n",
      "Vector a reshaped\n",
      "a = [[0 1]\n",
      " [2 3]\n",
      " [4 5]], a shape = (3, 2)\n",
      "\n",
      "Vector a reshaped\n",
      "a = [[0 1 2]\n",
      " [3 4 5]], a shape = (2, 3)\n",
      "Vector a reshaped\n",
      "a = [[0 1 2]\n",
      " [3 4 5]], a shape = (2, 3)\n"
     ]
    }
   ],
   "source": [
    "a = np.arange(6) # 1D array of 6 elements\n",
    "print((f\"a ={a}, a shape = {a.shape}\")) \n",
    "# Reshape the 1-D array to a 2-D array with 3 rows and 2 columns\n",
    "a = a.reshape(-1,2) # 2D array of 3 rows and 2 columns\n",
    "print(f\"Vector a reshaped\\na = {a}, a shape = {a.shape}\")\n",
    "\n",
    "# Reshape the 1-D array to a 2-D array with 3 rows and 2 columns\n",
    "a = np.arange(6) # 1D array of 6 elements\n",
    "a = a.reshape(3,2) # 2D array of 3 rows and 2 columns\n",
    "print(f\"Vector a reshaped\\na = {a}, a shape = {a.shape}\")\n",
    "\n",
    "\n",
    "# Reshape the 1-D array to a 2-D array with 2 rows and 3 columns\n",
    "a = np.arange(6) # 1D array of 6 elements\n",
    "a = a.reshape(2,3)\n",
    "print(f\"\\nVector a reshaped\\na = {a}, a shape = {a.shape}\")\n",
    "\n",
    "# Reshape the 1-D array to a 2-D array with 2 rows and 3 columns\n",
    "a = np.arange(6) # 1D array of 6 elements\n",
    "a = a.reshape(-1,3)\n",
    "print(f\"Vector a reshaped\\na = {a}, a shape = {a.shape}\")\n"
   ]
  },
  {
   "cell_type": "markdown",
   "metadata": {},
   "source": [
    "### Slicing\n",
    "\n",
    "Slicing creates an array of indices using a set of three values (start:stop:step). A subset of values is also valid. Let's check some examples.\n",
    " "
   ]
  },
  {
   "cell_type": "code",
   "execution_count": 71,
   "metadata": {},
   "outputs": [
    {
     "name": "stdout",
     "output_type": "stream",
     "text": [
      "a = \n",
      "[[ 0  1  2  3  4  5  6  7  8  9]\n",
      " [10 11 12 13 14 15 16 17 18 19]]\n",
      "a[0, 2:7:1] =  [2 3 4 5 6] \n",
      "a[0, 2:7:1].shape =  (5,) a 1-D array\n",
      "\n",
      "a[:, 2:7:1] = \n",
      " [[ 2  3  4  5  6]\n",
      " [12 13 14 15 16]] \n",
      "a[:, 2:7:1].shape =  (2, 5) a 2-D array\n",
      "\n",
      "a[:,:] = \n",
      " [[ 0  1  2  3  4  5  6  7  8  9]\n",
      " [10 11 12 13 14 15 16 17 18 19]] \n",
      "a[:,:].shape =  (2, 10) a 2-D array\n",
      "\n",
      "a[0,:] [0 1 2 3 4 5 6 7 8 9] \n",
      "a[0,:].shape =  (10,) a 1-D array\n",
      "\n",
      "a[0] =  [0 1 2 3 4 5 6 7 8 9] \n",
      "a[0].shape =  (10,) a 1-D array\n"
     ]
    }
   ],
   "source": [
    "# vector 2-D slicing operations\n",
    "a = np.arange(20).reshape(-1,10) # 2D array of 2 rows and 10 columns\n",
    "print(f\"a = \\n{a}\")\n",
    "\n",
    "# access 5 consecutive elements (start:stop:step)\n",
    "print(\"a[0, 2:7:1] = \", a[0, 2:7:1], \"\\na[0, 2:7:1].shape = \", a[0, 2:7:1].shape, \"a 1-D array\")\n",
    "\n",
    "# access 5 consecutive elemtes (start:stop:step) in two rows\n",
    "print(\"\\na[:, 2:7:1] = \\n\", a[:, 2:7:1], \"\\na[:, 2:7:1].shape = \", a[:, 2:7:1].shape, \"a 2-D array\")\n",
    "\n",
    "# acces all elements\n",
    "print(\"\\na[:,:] = \\n\", a[:,:], \"\\na[:,:].shape = \",a[:,:].shape, \"a 2-D array\")\n",
    "\n",
    "# Acces all elements in a row (very common operation)\n",
    "print(\"\\na[0,:]\",a[0,:], \"\\na[0,:].shape = \", a[0,:].shape, \"a 1-D array\")\n",
    "\n",
    "# same as above\n",
    "print(\"\\na[0] = \", a[0], \"\\na[0].shape = \", a[0].shape, \"a 1-D array\")"
   ]
  },
  {
   "cell_type": "markdown",
   "metadata": {},
   "source": [
    "This jupyter notebooks was created by [Inti](https://github.com/IntiToalombo)"
   ]
  }
 ],
 "metadata": {
  "kernelspec": {
   "display_name": "ML-stanford",
   "language": "python",
   "name": "python3"
  },
  "language_info": {
   "codemirror_mode": {
    "name": "ipython",
    "version": 3
   },
   "file_extension": ".py",
   "mimetype": "text/x-python",
   "name": "python",
   "nbconvert_exporter": "python",
   "pygments_lexer": "ipython3",
   "version": "3.11.10"
  }
 },
 "nbformat": 4,
 "nbformat_minor": 2
}
