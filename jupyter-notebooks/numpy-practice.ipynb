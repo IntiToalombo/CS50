{
 "cells": [
  {
   "cell_type": "markdown",
   "metadata": {},
   "source": [
    "## Numpy Practice\n",
    "Optional Lab01 ML specilization week 2."
   ]
  },
  {
   "cell_type": "markdown",
   "metadata": {},
   "source": [
    "Import Numpy package"
   ]
  },
  {
   "cell_type": "code",
   "execution_count": 12,
   "metadata": {},
   "outputs": [],
   "source": [
    "import numpy as np\n",
    "import time"
   ]
  },
  {
   "cell_type": "markdown",
   "metadata": {},
   "source": [
    "### 3.3 Vector creation\n",
    "Examples of creating vectors "
   ]
  },
  {
   "cell_type": "code",
   "execution_count": 13,
   "metadata": {},
   "outputs": [
    {
     "name": "stdout",
     "output_type": "stream",
     "text": [
      "np.zeros(4): a = [0. 0. 0. 0.], a shape = (4,), a data tye = float64\n",
      "np.zeros((4,)): a = [0. 0. 0. 0.], a shape = (4,), a data tye = float64\n",
      "np.random.random_sample(4): a = [0.85427821 0.14852384 0.94928665 0.16748834], a shape = (4,), a data tye = float64\n"
     ]
    }
   ],
   "source": [
    "# Numpy routines which allocate memory adn fill arrays with value\n",
    "a = np.zeros(4)  # 1D array of 4 zeros\n",
    "print(f\"np.zeros(4): a = {a}, a shape = {a.shape}, a data tye = {a.dtype}\")\n",
    "a = np.zeros((4,)) # 1D array of 4 zeros\n",
    "print(f\"np.zeros((4,)): a = {a}, a shape = {a.shape}, a data tye = {a.dtype}\")\n",
    "a = np.random.random_sample(4) # 1D array of 4 random numbers\n",
    "print(f\"np.random.random_sample(4): a = {a}, a shape = {a.shape}, a data tye = {a.dtype}\")"
   ]
  },
  {
   "cell_type": "markdown",
   "metadata": {},
   "source": [
    "Some data creation routines do not take a shape touple:"
   ]
  },
  {
   "cell_type": "code",
   "execution_count": 14,
   "metadata": {},
   "outputs": [
    {
     "name": "stdout",
     "output_type": "stream",
     "text": [
      "np.arange(4.): a = [0. 1. 2. 3.], a shape = (4,), a data tye = float64\n",
      "np.random.rand(4): a = [0.55653067 0.28423595 0.19716717 0.69992222], a shape = (4,), a data tye = float64\n"
     ]
    }
   ],
   "source": [
    "# Numpy routines which allocate memory and fill arrays with value but do not accept shape as input argument\n",
    "a = np.arange(4.) # 1D array of 4 numbers\n",
    "print(f\"np.arange(4.): a = {a}, a shape = {a.shape}, a data tye = {a.dtype}\")\n",
    "a = np.random.rand(4) # 1D array of 4 random numbers\n",
    "print(f\"np.random.rand(4): a = {a}, a shape = {a.shape}, a data tye = {a.dtype}\")"
   ]
  },
  {
   "cell_type": "markdown",
   "metadata": {},
   "source": [
    "Numpy arrays values can be specified manually as well"
   ]
  },
  {
   "cell_type": "code",
   "execution_count": 15,
   "metadata": {},
   "outputs": [
    {
     "name": "stdout",
     "output_type": "stream",
     "text": [
      "np.array[3, 5, 6, 8]: a = [3 5 6 8], a shape = (4,), a data tye = int32\n",
      "np.array([3., 5, 6, 8]): a = [3. 5. 6. 8.], a shape = (4,), a data tye = float64\n"
     ]
    }
   ],
   "source": [
    "a = np.array([3, 5, 6, 8]) # 1D array of 4 numbers, 3 is an integer\n",
    "print(f\"np.array[3, 5, 6, 8]: a = {a}, a shape = {a.shape}, a data tye = {a.dtype}\")\n",
    "a = np.array([3., 5, 6, 8]) # 1D array of 4 numbers, 3. is a float\n",
    "print(f\"np.array([3., 5, 6, 8]): a = {a}, a shape = {a.shape}, a data tye = {a.dtype}\")"
   ]
  },
  {
   "cell_type": "markdown",
   "metadata": {},
   "source": [
    "These have created a one-dimensional vector `a` with four elements, `a.shape` returns the dimensions. Here we see a.shape = (4, ) indicating 1-D array with `4` elements.\n"
   ]
  },
  {
   "cell_type": "markdown",
   "metadata": {},
   "source": [
    "### 3.4 Operations on Vectors\n",
    "#### Indexing\n",
    "NumPy offers a very complete set of idexing and slicing capabilities.\n",
    "`Indexing` it refers to an element by its position within the array.  \n",
    "`Slicing` means getting a subset of the elements from an array based on their indices.\n",
    "**Note:** Numpy starts indexing at zero (0) so the 3rd element of a vector **a** is a[2]\n",
    "To skip to a new line in Jupyter Notebook, you can use two spaces at the end of the line or use the HTML `<br>` tag. Here is the code that would fit at the placeholder:"
   ]
  },
  {
   "cell_type": "code",
   "execution_count": 16,
   "metadata": {},
   "outputs": [
    {
     "name": "stdout",
     "output_type": "stream",
     "text": [
      "[0. 1. 2. 3. 4. 5. 6. 7. 8. 9.]\n",
      "a[2].shape: (), a[2] = 2.0, Accesing an element returns a scalar\n",
      "a[-1].shape: (), a[-1] = 9.0\n",
      "IndexError: index 10 is out of bounds for axis 0 with size 10\n"
     ]
    }
   ],
   "source": [
    "# vector indexing operations in 1D arrays\n",
    "a = np.arange(10.)\n",
    "print(a)\n",
    "# access to the 2nd element\n",
    "print(f\"a[2].shape: {a[2].shape}, a[2] = {a[2]}, Accesing an element returns a scalar\")\n",
    "\n",
    "# acces to the last element, use negative index counting from the end\n",
    "print(f\"a[-1].shape: {a[-1].shape}, a[-1] = {a[-1]}\")\n",
    "\n",
    "# indexes must me in the range of the array size, otherwise an error is raised\n",
    "try:\n",
    "    print(f\"a[10]: {a[10]}\")\n",
    "except IndexError as e:\n",
    "    print(f\"IndexError: {e}\")"
   ]
  },
  {
   "cell_type": "markdown",
   "metadata": {},
   "source": [
    "#### Slicing\n",
    "Slicing allow us to create an array of indices using three parameters (`start;stop:step`). A susbset of values is also valid."
   ]
  },
  {
   "cell_type": "code",
   "execution_count": null,
   "metadata": {},
   "outputs": [
    {
     "name": "stdout",
     "output_type": "stream",
     "text": [
      "a          =  [0. 1. 2. 3. 4. 5. 6. 7. 8. 9.]\n",
      "a[2:7:1]   =  [2. 3. 4. 5. 6.]\n",
      "a[2:7:2]   =  [2. 4. 6.]\n",
      "a[3:]      =  [3. 4. 5. 6. 7. 8. 9.]\n",
      "a[:3]      =  [0. 1. 2.]\n",
      "a[:]       =  [0. 1. 2. 3. 4. 5. 6. 7. 8. 9.]\n"
     ]
    }
   ],
   "source": [
    "# Slicing operations\n",
    "a = np.arange(10.)\n",
    "print(f\"a          = \", a)\n",
    "# access 5 consecutive elements (start:stop:step)\n",
    "c = a[2:7:1]\n",
    "print(f\"a[2:7:1]   = \", c)\n",
    "# acces 3 elements separated by 2 elements\n",
    "c = a[2:7:2]\n",
    "print(f\"a[2:7:2]   = \", c)\n",
    "# access all elements index 3 and beyond\n",
    "c = a[3:]\n",
    "print(f\"a[3:]      = \", c)\n",
    "# access all elements up to index 3\n",
    "c = a[:3]\n",
    "print(f\"a[:3]      = \", c)\n",
    "# access all elements\n",
    "c = a[:]\n",
    "print(f\"a[:]       = \", c)\n"
   ]
  },
  {
   "cell_type": "markdown",
   "metadata": {},
   "source": [
    "### Single vector operations\n",
    "There are a number of useful operations that involve operations on a single vector."
   ]
  },
  {
   "cell_type": "code",
   "execution_count": null,
   "metadata": {},
   "outputs": [
    {
     "name": "stdout",
     "output_type": "stream",
     "text": [
      "a          =  [1 2 3 4]\n",
      "-a         =  [-1 -2 -3 -4]\n",
      "np.sum(a)  =  10\n",
      "np.mean(a) =  2.5\n",
      "a**2       =  [ 1  4  9 16]\n"
     ]
    }
   ],
   "source": [
    "a = np.array([1, 2, 3, 4])\n",
    "print(f\"a          = \", a)\n",
    "\n",
    "# negate elements of a\n",
    "b = -a\n",
    "print(f\"-a         = \",b)\n",
    "\n",
    "# sum of all elements of a, returns a scalar\n",
    "b = np.sum(a)\n",
    "print(f\"np.sum(a)  = \", b)\n",
    "\n",
    "# mean of all elements of a, returns a scalar\n",
    "b = np.mean(a)\n",
    "print(f\"np.mean(a) = \",b)\n",
    "\n",
    "# square of all elements of a\n",
    "b = a**2\n",
    "print(f\"a**2       = \", b)\n"
   ]
  },
  {
   "cell_type": "markdown",
   "metadata": {},
   "source": [
    "### Vector vector element-wise operations\n",
    "\n",
    "Numpy arithmetic, logical and comparison also apply to vector as well. These  operators work on an element-by-element basis.\n",
    "\n",
    "$$ c_i = a_i + b_i $$"
   ]
  },
  {
   "cell_type": "code",
   "execution_count": null,
   "metadata": {},
   "outputs": [
    {
     "name": "stdout",
     "output_type": "stream",
     "text": [
      "Primary operators work element-wise:  [0 0 6 8]\n"
     ]
    }
   ],
   "source": [
    "a = np.array([1, 2, 3, 4])\n",
    "b = np.array([-1, -2, 3, 4])\n",
    "print(f\"Primary operators work element-wise: \", a + b)"
   ]
  },
  {
   "cell_type": "markdown",
   "metadata": {},
   "source": [
    "Noticed that to carry out this operation correctly, the vector must be of the same size."
   ]
  },
  {
   "cell_type": "code",
   "execution_count": null,
   "metadata": {},
   "outputs": [
    {
     "name": "stdout",
     "output_type": "stream",
     "text": [
      "ValueError: operands could not be broadcast together with shapes (4,) (3,) \n"
     ]
    }
   ],
   "source": [
    "# Try a mismatched operation on vectors of different sizes\n",
    "c = np.array([1, 2, 3])\n",
    "try:\n",
    "    d = a + c\n",
    "except ValueError as e:\n",
    "    print(f\"ValueError: {e}\")"
   ]
  },
  {
   "cell_type": "markdown",
   "metadata": {},
   "source": [
    "### Scalar vector operations\n",
    "\n",
    "A vector can be scaled by a scalar value(number). This scalar multiplies all the elements of the vector "
   ]
  },
  {
   "cell_type": "code",
   "execution_count": null,
   "metadata": {},
   "outputs": [
    {
     "name": "stdout",
     "output_type": "stream",
     "text": [
      "a =  [1 2 3 4]\n",
      "2*a =  [2 4 6 8]\n"
     ]
    }
   ],
   "source": [
    "a = np.array([1, 2, 3, 4])\n",
    "print(f\"a = \", a)\n",
    " # Multiply vector a by a scalar\n",
    "b = 2*a\n",
    "print(f\"2*a = \", b)\n"
   ]
  },
  {
   "cell_type": "markdown",
   "metadata": {},
   "source": [
    "### Vector Vector dot product\n",
    "\n",
    "The **dot product** operation is the mainstay of Numpy and Linear Algebra, since it is used extensively in machine Learnign(ML).\n",
    "The mathematical representation is depicted below:"
   ]
  },
  {
   "cell_type": "markdown",
   "metadata": {},
   "source": [
    "<img src = \".\\CS50\\jupyter-notebooks\\C1_W2_Lab04_dot_notrans.gif\" width=800>"
   ]
  }
 ],
 "metadata": {
  "kernelspec": {
   "display_name": "ML-stanford",
   "language": "python",
   "name": "python3"
  },
  "language_info": {
   "codemirror_mode": {
    "name": "ipython",
    "version": 3
   },
   "file_extension": ".py",
   "mimetype": "text/x-python",
   "name": "python",
   "nbconvert_exporter": "python",
   "pygments_lexer": "ipython3",
   "version": "3.11.10"
  }
 },
 "nbformat": 4,
 "nbformat_minor": 2
}
